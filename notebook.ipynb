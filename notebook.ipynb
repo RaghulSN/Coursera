{
 "cells": [
  {
   "cell_type": "markdown",
   "id": "61c61c25-d4a0-4883-965d-5890ec43eba4",
   "metadata": {},
   "source": [
    "# Data Science Tools and Ecosystem"
   ]
  },
  {
   "cell_type": "markdown",
   "id": "9fe2b62a-be1d-4701-a52a-153058302016",
   "metadata": {},
   "source": [
    "In this notebook, Data Science Tools and Ecosystem are summarized."
   ]
  },
  {
   "cell_type": "markdown",
   "id": "9cc596e8-27a9-446e-920e-0b5fd6915c87",
   "metadata": {},
   "source": [
    "**Objectives:**\n",
    "\n",
    "- Create markdown cells in Jupyter Notebooks\n",
    "- Create Ordered list in markdown cells  \n",
    "- List popular languages for Data Science  \n",
    "- List commonly used Libraries  \n",
    "- List Data Science Tools \n"
   ]
  },
  {
   "cell_type": "markdown",
   "id": "24172c89-4593-40f7-853a-5e883de9fe8c",
   "metadata": {},
   "source": [
    "Some of the popular languages that Data Scientists use are:\n",
    "\n",
    "1. **Python** \n",
    "2. **R** \n",
    "3. **SQL** \n",
    "4. **Java** "
   ]
  },
  {
   "cell_type": "markdown",
   "id": "3fedc3d6-5b96-4e39-8351-461e8dd13c93",
   "metadata": {},
   "source": [
    "Some of the commonly used libraries used by Data Scientists include:\n",
    "\n",
    "1. **Pandas** \n",
    "2. **Numpy** \n",
    "3. **Matplotlib** \n",
    "4. **Seaborn** "
   ]
  },
  {
   "cell_type": "markdown",
   "id": "37c2ca8f-71da-4d42-b7d9-508d6adf6463",
   "metadata": {},
   "source": [
    "| Data Science Tools          |\n",
    "|----------------------------|\n",
    "| Jupyter Notebook           |\n",
    "| RStudio                    |\n",
    "| Visual Studio Code (VS Code) |\n"
   ]
  },
  {
   "cell_type": "markdown",
   "id": "53c5bbaf-0431-485f-96ca-82071caa0453",
   "metadata": {},
   "source": [
    "### Below are a few examples of evaluating arithmetic expressions in Python"
   ]
  },
  {
   "cell_type": "code",
   "execution_count": 1,
   "id": "3d9ffe97-c6fc-48ef-b4ca-28f92c2fc1b9",
   "metadata": {},
   "outputs": [
    {
     "data": {
      "text/plain": [
       "17"
      ]
     },
     "execution_count": 1,
     "metadata": {},
     "output_type": "execute_result"
    }
   ],
   "source": [
    "# This a simple arithmetic expression to mutiply then add integers\n",
    "(3*4)+5"
   ]
  },
  {
   "cell_type": "code",
   "execution_count": 2,
   "id": "0e326e10-ed8d-480d-8501-901a8f3ff7ea",
   "metadata": {},
   "outputs": [
    {
     "data": {
      "text/plain": [
       "3.3333333333333335"
      ]
     },
     "execution_count": 2,
     "metadata": {},
     "output_type": "execute_result"
    }
   ],
   "source": [
    "# This will convert 200 minutes to hours by diving by 60\n",
    "200/60"
   ]
  },
  {
   "cell_type": "markdown",
   "id": "6aa52c1a-bae7-410f-abbe-716e6d1f8419",
   "metadata": {},
   "source": [
    "## Author\n",
    "Rahul"
   ]
  },
  {
   "cell_type": "code",
   "execution_count": null,
   "id": "3ee95a01-fd6e-4678-989c-644b343dac8d",
   "metadata": {},
   "outputs": [],
   "source": []
  }
 ],
 "metadata": {
  "kernelspec": {
   "display_name": "Python 3 (ipykernel)",
   "language": "python",
   "name": "python3"
  },
  "language_info": {
   "codemirror_mode": {
    "name": "ipython",
    "version": 3
   },
   "file_extension": ".py",
   "mimetype": "text/x-python",
   "name": "python",
   "nbconvert_exporter": "python",
   "pygments_lexer": "ipython3",
   "version": "3.12.7"
  }
 },
 "nbformat": 4,
 "nbformat_minor": 5
}
